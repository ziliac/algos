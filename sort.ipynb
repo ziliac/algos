{
 "cells": [
  {
   "cell_type": "code",
   "execution_count": 1,
   "metadata": {},
   "outputs": [],
   "source": [
    "import sys\n",
    "sys.path.append('..')\n",
    "from include import *"
   ]
  },
  {
   "cell_type": "code",
   "execution_count": null,
   "metadata": {},
   "outputs": [],
   "source": []
  },
  {
   "cell_type": "code",
   "execution_count": 2,
   "metadata": {},
   "outputs": [],
   "source": [
    "def mergeSort(x):\n",
    "    \"\"\" merge sort an array \"\"\"\n",
    "    \n",
    "    def merge(x1, x2):\n",
    "        \"\"\" merge two sorted arrays\"\"\"\n",
    "        if not x1:\n",
    "            return x2\n",
    "        elif not x2:\n",
    "            return x1\n",
    "        elif x1[0] < x2[0]:\n",
    "            return [x1[0]] + merge(x1[1:], x2)\n",
    "        else:\n",
    "            return [x2[0]] + merge(x1, x2[1:])\n",
    "    \n",
    "    n = len(x)\n",
    "    if n <= 1:\n",
    "        return x\n",
    "    else:\n",
    "        m = n // 2 # the middle index\n",
    "        x1 = mergeSort(x[:m])\n",
    "        x2 = mergeSort(x[m:])\n",
    "        return merge(x1, x2)"
   ]
  },
  {
   "cell_type": "code",
   "execution_count": 3,
   "metadata": {},
   "outputs": [
    {
     "data": {
      "text/plain": [
       "[1, 2, 3]"
      ]
     },
     "execution_count": 3,
     "metadata": {},
     "output_type": "execute_result"
    }
   ],
   "source": [
    "mergeSort([2, 3, 1])"
   ]
  },
  {
   "cell_type": "code",
   "execution_count": null,
   "metadata": {},
   "outputs": [],
   "source": []
  }
 ],
 "metadata": {
  "kernelspec": {
   "display_name": "Python 3",
   "language": "python",
   "name": "python3"
  },
  "language_info": {
   "codemirror_mode": {
    "name": "ipython",
    "version": 3
   },
   "file_extension": ".py",
   "mimetype": "text/x-python",
   "name": "python",
   "nbconvert_exporter": "python",
   "pygments_lexer": "ipython3",
   "version": "3.6.4"
  }
 },
 "nbformat": 4,
 "nbformat_minor": 2
}
