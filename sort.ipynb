{
 "cells": [
  {
   "cell_type": "code",
   "execution_count": 1,
   "metadata": {},
   "outputs": [],
   "source": [
    "from include import *"
   ]
  },
  {
   "cell_type": "code",
   "execution_count": 13,
   "metadata": {},
   "outputs": [],
   "source": [
    "def show(sortAlgo):\n",
    "    \n",
    "    x = np.arange(10)\n",
    "    np.random.shuffle(x)\n",
    "    print('before : {}'.format(x))\n",
    "    now = time.time()\n",
    "    x = sortAlgo(x)\n",
    "    t = time.time() - now\n",
    "    print('after : {}'.format(sortAlgo(x)))\n",
    "    print('time elapsed: {}'.format(t))\n",
    "    \n",
    "    return"
   ]
  },
  {
   "cell_type": "markdown",
   "metadata": {},
   "source": [
    "## implementations of some basic sorting algos"
   ]
  },
  {
   "cell_type": "markdown",
   "metadata": {},
   "source": [
    "#### mergesort"
   ]
  },
  {
   "cell_type": "code",
   "execution_count": 14,
   "metadata": {},
   "outputs": [],
   "source": [
    "def mergeSort(x):\n",
    "    \"\"\" merge sort an array \"\"\"\n",
    "    \n",
    "    def merge(x1, x2):\n",
    "        \"\"\" merge two sorted arrays\"\"\"\n",
    "        if not len(x1):\n",
    "            return x2\n",
    "        elif not len(x2):\n",
    "            return x1\n",
    "        elif x1[0] < x2[0]:\n",
    "            return np.concatenate([[x1[0]], merge(x1[1:], x2)])\n",
    "        else:\n",
    "            return np.concatenate([[x2[0]], merge(x1, x2[1:])])\n",
    "    \n",
    "    n = len(x)\n",
    "    if n <= 1:\n",
    "        return x\n",
    "    else:\n",
    "        m = n // 2 # the middle index\n",
    "        x1 = mergeSort(x[:m])\n",
    "        x2 = mergeSort(x[m:])\n",
    "        return merge(x1, x2)"
   ]
  },
  {
   "cell_type": "code",
   "execution_count": 15,
   "metadata": {},
   "outputs": [
    {
     "name": "stdout",
     "output_type": "stream",
     "text": [
      "before : [5 4 0 2 6 7 1 9 3 8]\n",
      "after : [0 1 2 3 4 5 6 7 8 9]\n",
      "time elapsed: 0.0004131793975830078\n"
     ]
    }
   ],
   "source": [
    "show(mergeSort)"
   ]
  },
  {
   "cell_type": "markdown",
   "metadata": {},
   "source": [
    "#### quicksort"
   ]
  },
  {
   "cell_type": "code",
   "execution_count": 16,
   "metadata": {},
   "outputs": [],
   "source": [
    "def quickSort(x):\n",
    "    \"\"\" quick sort an array \"\"\"\n",
    "    \n",
    "    n = len(x)\n",
    "    if n <= 1:\n",
    "        return x\n",
    "    \n",
    "    x0 = np.random.choice(x)\n",
    "    \n",
    "    i = 0\n",
    "    j = n - 1\n",
    "    while i < j:\n",
    "        while x[i] <= x0 and i < j:\n",
    "            i += 1\n",
    "        while x[j] > x0 and i < j:\n",
    "            j -= 1\n",
    "        x[i], x[j] = x[j], x[i]\n",
    "    \n",
    "    x[:i] = quickSort(x[:i])\n",
    "    x[i:] = quickSort(x[i:])\n",
    "    \n",
    "    return x"
   ]
  },
  {
   "cell_type": "code",
   "execution_count": 17,
   "metadata": {},
   "outputs": [
    {
     "name": "stdout",
     "output_type": "stream",
     "text": [
      "before : [3 6 0 2 9 4 8 5 1 7]\n",
      "after : [0 1 2 3 4 5 6 7 8 9]\n",
      "time elapsed: 0.00017499923706054688\n"
     ]
    }
   ],
   "source": [
    "show(quickSort)"
   ]
  },
  {
   "cell_type": "markdown",
   "metadata": {},
   "source": [
    "#### heap sort"
   ]
  },
  {
   "cell_type": "code",
   "execution_count": 18,
   "metadata": {},
   "outputs": [],
   "source": [
    "from heapq import heappush, heappop, heapify"
   ]
  },
  {
   "cell_type": "code",
   "execution_count": 19,
   "metadata": {},
   "outputs": [],
   "source": [
    "def heapSort(x):\n",
    "    h = list(x)\n",
    "    heapify(h)\n",
    "    return np.array([heappop(h) for a in x])"
   ]
  },
  {
   "cell_type": "code",
   "execution_count": 20,
   "metadata": {},
   "outputs": [
    {
     "name": "stdout",
     "output_type": "stream",
     "text": [
      "before : [7 3 5 2 0 8 6 9 1 4]\n",
      "after : [0 1 2 3 4 5 6 7 8 9]\n",
      "time elapsed: 4.1961669921875e-05\n"
     ]
    }
   ],
   "source": [
    "show(heapSort)"
   ]
  },
  {
   "cell_type": "code",
   "execution_count": 21,
   "metadata": {},
   "outputs": [
    {
     "name": "stdout",
     "output_type": "stream",
     "text": [
      "2.17 µs ± 38.9 ns per loop (mean ± std. dev. of 7 runs, 100000 loops each)\n"
     ]
    }
   ],
   "source": [
    "%timeit heapSort([1, 2])"
   ]
  },
  {
   "cell_type": "code",
   "execution_count": null,
   "metadata": {},
   "outputs": [],
   "source": []
  }
 ],
 "metadata": {
  "kernelspec": {
   "display_name": "Python 3",
   "language": "python",
   "name": "python3"
  },
  "language_info": {
   "codemirror_mode": {
    "name": "ipython",
    "version": 3
   },
   "file_extension": ".py",
   "mimetype": "text/x-python",
   "name": "python",
   "nbconvert_exporter": "python",
   "pygments_lexer": "ipython3",
   "version": "3.6.4"
  }
 },
 "nbformat": 4,
 "nbformat_minor": 2
}
